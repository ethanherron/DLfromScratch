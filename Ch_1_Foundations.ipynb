{
 "cells": [
  {
   "cell_type": "markdown",
   "metadata": {},
   "source": [
    "Author: Ethan Herron\n",
    "\n",
    "3/4/2020\n",
    "\n",
    "This is my jupyter notebook for the book Deep Learning from Scratch by Seth Weidman.\n",
    "I will be following along with all of the code, and adding insights or questions I have along the way in these markdown cells.\n",
    "\n",
    "Chapter 1 goes over the basic underlying math to neural networks.\n",
    "This notebook goes over simple functions, their derivatives and the creation and derivation of nested functions, along with functions of multiple inputs and matrix multiplication."
   ]
  },
  {
   "cell_type": "code",
   "execution_count": 2,
   "metadata": {
    "scrolled": true
   },
   "outputs": [
    {
     "name": "stdout",
     "output_type": "stream",
     "text": [
      "Deep Learning from Scratch\n"
     ]
    }
   ],
   "source": [
    "print(\"Deep Learning from Scratch\")"
   ]
  },
  {
   "cell_type": "code",
   "execution_count": 3,
   "metadata": {},
   "outputs": [],
   "source": [
    "#import libraries\n",
    "import numpy as np\n",
    "from numpy import ndarray\n",
    "import matplotlib.pyplot as plt\n",
    "import matplotlib\n",
    "%matplotlib inline\n",
    "\n",
    "from typing import Callable\n",
    "from typing import Dict\n",
    "from typing import List"
   ]
  },
  {
   "cell_type": "markdown",
   "metadata": {},
   "source": [
    "## BASIC FUNCTIONS"
   ]
  },
  {
   "cell_type": "code",
   "execution_count": 4,
   "metadata": {},
   "outputs": [],
   "source": [
    "def square(x: ndarray) -> ndarray:\n",
    "    '''\n",
    "    x^2\n",
    "    '''\n",
    "    return np.power(x, 2)\n",
    "\n",
    "def leakyRelu(x: ndarray) -> ndarray:\n",
    "    '''\n",
    "    Relu with a slight twist\n",
    "    '''\n",
    "    return np.maximum(.2*x, x)\n",
    "\n",
    "def sigmoid(x: ndarray) -> ndarray:\n",
    "    '''\n",
    "    Sigmoid function, most notable function for neural networks, but computationally more expensive compared to the\n",
    "    Relu. Not quite sure why he is using the leakyRelu right now and how exactly it differs from the Relu, but I guess\n",
    "    we'll see.\n",
    "    '''\n",
    "    return 1 / (1 + np.exp(-x))"
   ]
  },
  {
   "cell_type": "code",
   "execution_count": 5,
   "metadata": {},
   "outputs": [
    {
     "data": {
      "image/png": "[encoded data removed]",
      "text/plain": [
       "<Figure size 1080x360 with 3 Axes>"
      ]
     },
     "metadata": {
      "needs_background": "light"
     },
     "output_type": "display_data"
    }
   ],
   "source": [
    "fig, ax = plt.subplots(1, 3, sharey=True, figsize=(15,5))\n",
    "\n",
    "inputRange = np.arange(-2, 2, 0.01)\n",
    "ax[0].plot(inputRange, square(inputRange))\n",
    "ax[0].plot(inputRange, square(inputRange))\n",
    "ax[0].set_title('Square function')\n",
    "ax[0].set_xlabel('input')\n",
    "ax[0].set_ylabel('output')\n",
    "\n",
    "ax[1].plot(inputRange, leakyRelu(inputRange))\n",
    "ax[1].plot(inputRange, leakyRelu(inputRange))\n",
    "ax[1].set_title('\"Leaky\" Relu function')\n",
    "ax[1].set_xlabel('input')\n",
    "ax[1].set_ylabel('output')\n",
    "\n",
    "ax[2].plot(inputRange, sigmoid(inputRange))\n",
    "ax[2].plot(inputRange, sigmoid(inputRange))\n",
    "ax[2].set_title('Sigmoid function')\n",
    "ax[2].set_xlabel('input')\n",
    "ax[2].set_ylabel('output');"
   ]
  },
  {
   "cell_type": "markdown",
   "metadata": {},
   "source": [
    "## DERIVATIVES OF FUNCTIONS AND NESTED FUNCTIONS"
   ]
  },
  {
   "cell_type": "code",
   "execution_count": 6,
   "metadata": {},
   "outputs": [],
   "source": [
    "def deriv(func: Callable[[ndarray],ndarray], input_: ndarray, delta: float = 0.001) -> ndarray:\n",
    "    '''\n",
    "    Evaluates the derivative of a function \"func\" at every element in the \"input_\" array.\n",
    "    '''\n",
    "    return(func(input_ + delta) - func(input_ - delta)) / (2*delta)"
   ]
  },
  {
   "cell_type": "code",
   "execution_count": 7,
   "metadata": {},
   "outputs": [],
   "source": [
    "#A function takes in an ndarray as an argument and produces an ndarray\n",
    "\n",
    "Array_Function = Callable[[ndarray], ndarray]\n",
    "\n",
    "#A chain is a list of functions\n",
    "\n",
    "Chain = List[Array_Function]"
   ]
  },
  {
   "cell_type": "code",
   "execution_count": 8,
   "metadata": {},
   "outputs": [],
   "source": [
    "def chain_length_2(chain: Chain, x: ndarray) -> ndarray:\n",
    "    '''\n",
    "    Evaluates two functions in a row, in a \"chain\"\n",
    "    '''\n",
    "    assert len(chain) == 2\n",
    "    \n",
    "    f1 = chain[0]\n",
    "    f2 = chain[1]\n",
    "    \n",
    "    return f2(f1(x))\n",
    "\n",
    "def chain_deriv_2(chain: Chain, input_range: ndarray) -> ndarray:\n",
    "    '''\n",
    "    Uses the chain rule to compute the derivative of two nested functions\n",
    "    (f2(f1(x))' = f2'(f1(x)) * f1'(x)\n",
    "    '''\n",
    "    assert len(chain) == 2\n",
    "    \n",
    "    assert input_range.ndim == 1\n",
    "    \n",
    "    f1 = chain[0]\n",
    "    f2 = chain[1]\n",
    "    \n",
    "    #df1/dx\n",
    "    f1_of_x = f1(input_range)\n",
    "    \n",
    "    #df1/du\n",
    "    df1dx = deriv(f1, input_range)\n",
    "    \n",
    "    #df2/du(f1(x))\n",
    "    df2du = deriv(f2, f1(input_range))\n",
    "    \n",
    "    #Multiplying these quantities together at each point\n",
    "    return df1dx * df2du"
   ]
  },
  {
   "cell_type": "code",
   "execution_count": 9,
   "metadata": {},
   "outputs": [],
   "source": [
    "def plot_chain(ax, chain: Chain, input_range: ndarray, length: int=2) -> None:\n",
    "    '''\n",
    "    Plots the designated chain function - a function made up of multiple \n",
    "    consecutive ndarray -> ndarray mappings - Across the input_range\n",
    "    '''\n",
    "    \n",
    "    assert input_range.ndim == 1, \\\n",
    "    \"Function requires a 1 dimensional ndarray as input_range\"\n",
    "    \n",
    "    if length == 2:\n",
    "        output_range = chain_length_2(chain, input_range)\n",
    "    elif length == 3:\n",
    "        output_range = chain_length_3(chain, input_range)\n",
    "    ax.plot(input_range, output_range)"
   ]
  },
  {
   "cell_type": "code",
   "execution_count": 10,
   "metadata": {},
   "outputs": [],
   "source": [
    "def plot_chain_deriv(ax, chain: Chain, input_range: ndarray, length: int=2) -> ndarray:\n",
    "    '''\n",
    "    Just plots the derivative of a nested function, aka the chain rule\n",
    "    '''\n",
    "    if length == 2:\n",
    "        output_range = chain_deriv_2(chain, input_range)\n",
    "    elif length == 3:\n",
    "        output_range = chain_deriv_3(chain, input_range)\n",
    "    ax.plot(input_range, output_range)\n"
   ]
  },
  {
   "cell_type": "code",
   "execution_count": 11,
   "metadata": {},
   "outputs": [
    {
     "data": {
      "text/plain": [
       "Text(0.5, 1.0, 'Function and derivative for \\n$f(x) = sigmoid(square(x))$')"
      ]
     },
     "execution_count": 11,
     "metadata": {},
     "output_type": "execute_result"
    },
    {
     "data": {
      "image/png": "[encoded data removed]",
      "text/plain": [
       "<Figure size 1152x576 with 2 Axes>"
      ]
     },
     "metadata": {
      "needs_background": "light"
     },
     "output_type": "display_data"
    }
   ],
   "source": [
    "#plot results of the chain rule\n",
    "fig, ax = plt.subplots(1, 2, sharey=True, figsize=(16, 8))\n",
    "\n",
    "PLOT_RANGE = np.arange(-3, 3, 0.01)\n",
    "\n",
    "chain_1 = [square, sigmoid]\n",
    "chain_2 = [sigmoid, square]\n",
    "\n",
    "plot_chain(ax[0], chain_1, PLOT_RANGE)\n",
    "plot_chain_deriv(ax[0], chain_1, PLOT_RANGE)\n",
    "\n",
    "ax[0].legend([\"$f(x)$\", \"$\\\\frac{df}{dx}$\"])\n",
    "ax[0].set_title(\"Function and derivative for \\n$f(x) = sigmoid(square(x))$\")\n",
    "\n",
    "plot_chain(ax[1], chain_2, PLOT_RANGE)\n",
    "plot_chain_deriv(ax[1], chain_2, PLOT_RANGE)\n",
    "\n",
    "ax[1].legend([\"$f(x)$\", \"$\\\\frac{df}{dx}$\"])\n",
    "ax[1].set_title(\"Function and derivative for \\n$f(x) = sigmoid(square(x))$\")"
   ]
  },
  {
   "cell_type": "code",
   "execution_count": 12,
   "metadata": {},
   "outputs": [],
   "source": [
    "def chain_length_3(chain: Chain, x: ndarray) -> ndarray:\n",
    "    '''\n",
    "    Evaluates three functions in a row, in a \"Chain\" \n",
    "    This object is just used to convey how a chain of functions \n",
    "    is evaulated.\n",
    "    '''\n",
    "    assert len(chain) == 3, \\\n",
    "    'the length of the input\"chain\" must be 3'\n",
    "    \n",
    "    f1 = chain[0]\n",
    "    f2 = chain[1]\n",
    "    f3 = chain[2]\n",
    "    \n",
    "    return f3(f2(f1(x)))\n",
    "    \n",
    "def chain_deriv_3(chain: Chain, input_range: ndarray) -> ndarray:\n",
    "    '''\n",
    "    This will calculate the derivative of three nested functions using the chain rule.\n",
    "    f3(f2(f1(x)))' = f3'(f2(f1(x))) * f2'(f1(x)) * f1(x)'\n",
    "    '''\n",
    "    assert len(chain) == 3, \\\n",
    "    \"This function requires 'Chain' objects to have length of 3\"\n",
    "    \n",
    "    assert input_range.ndim == 1, \\\n",
    "    \"Function requires a 1 dimensional ndarray as input_range\"\n",
    "    \n",
    "    f1 = chain[0]\n",
    "    f2 = chain[1]\n",
    "    f3 = chain[2]\n",
    "    \n",
    "    #f1(x)\n",
    "    f1_of_x = f1(input_range)\n",
    "    \n",
    "    #f2(f1(x))\n",
    "    f2_of_x = f2(f1(input_range))\n",
    "    \n",
    "    #df3du\n",
    "    df3du = deriv(f3, f2_of_x)\n",
    "    \n",
    "    #df2du\n",
    "    df2du = deriv(f2, f1_of_x)\n",
    "    \n",
    "    #df1du\n",
    "    df1du = deriv(f1, input_range)\n",
    "    \n",
    "    #Mutliply together at same point\n",
    "    return df1du * df2du * df3du"
   ]
  },
  {
   "cell_type": "code",
   "execution_count": 13,
   "metadata": {},
   "outputs": [
    {
     "data": {
      "text/plain": [
       "Text(0.5, 1.0, 'Function and derivative for \\n$f(x) = square(sigmoid(leakyRelu))$')"
      ]
     },
     "execution_count": 13,
     "metadata": {},
     "output_type": "execute_result"
    },
    {
     "data": {
      "image/png": "[encoded data removed]",
      "text/plain": [
       "<Figure size 1152x576 with 2 Axes>"
      ]
     },
     "metadata": {
      "needs_background": "light"
     },
     "output_type": "display_data"
    }
   ],
   "source": [
    "fig, ax = plt.subplots(1, 2, sharey=True, figsize=(16,8))\n",
    "\n",
    "chain_1 = [leakyRelu, square, sigmoid]\n",
    "chain_2 = [leakyRelu, sigmoid, square]\n",
    "\n",
    "PLOT_RANGE = np.arange(-3, 3, 0.01)\n",
    "plot_chain(ax[0], chain_1, PLOT_RANGE, length=3)\n",
    "plot_chain_deriv(ax[0], chain_1, PLOT_RANGE, length=3)\n",
    "\n",
    "ax[0].legend([\"$f(x)$\", \"$\\\\frac{df}{dx}$\"])\n",
    "ax[0].set_title(\"Function and derivative for \\n$f(x) = sigmoid(square(leakyRelu))$\")\n",
    "\n",
    "plot_chain(ax[1], chain_2, PLOT_RANGE, length=3)\n",
    "plot_chain_deriv(ax[1], chain_2, PLOT_RANGE, length=3)\n",
    "\n",
    "ax[1].legend([\"$f(x)$\", \"$\\\\frac{df}{dx}$\"])\n",
    "ax[1].set_title(\"Function and derivative for \\n$f(x) = square(sigmoid(leakyRelu))$\")"
   ]
  },
  {
   "cell_type": "markdown",
   "metadata": {},
   "source": [
    "## FUNCTIONS WITH MULTIPLE INPUTS"
   ]
  },
  {
   "cell_type": "code",
   "execution_count": 14,
   "metadata": {},
   "outputs": [],
   "source": [
    "def multiple_inputs_add(x: ndarray, y: ndarray, sigma: Array_Function) -> float:\n",
    "    '''\n",
    "    Function with multiple inputs, which will be added together\n",
    "    Forward pass\n",
    "    '''\n",
    "    assert x.shape == y.shape\n",
    "    \n",
    "    a = x + y\n",
    "    return sigma(a)\n",
    "\n",
    "def multiple_inputs_add_backwards(x: ndarray, y: ndarray, sigma: Array_Function) -> float:\n",
    "    '''\n",
    "    Computes the derivative of two functions with respect to both inputs\n",
    "    '''\n",
    "    # compute the forward pass\n",
    "    a = x + y\n",
    "    \n",
    "    # compute the backward pass\n",
    "    dsda = deriv(sigma, a)\n",
    "    \n",
    "    #derivatives a with respect to each variable\n",
    "    dadx, dady = 1, 1\n",
    "    \n",
    "    return dsda * dadx, dsda * dady\n",
    "\n",
    "def multiple_inputs_multiply_backwards(x: ndarray, y: ndarray, sigma: Array_Function) -> float:\n",
    "    '''\n",
    "    Computes the derivative of two functions with respect to both inputs\n",
    "    '''\n",
    "    # compute the foward pass\n",
    "    a = x*y\n",
    "    \n",
    "    #compute the backward pass\n",
    "    dsda = deriv(sigma, a)\n",
    "    \n",
    "    #derivatives of a with respect to each constituent variable\n",
    "    dadx, dady = y, x\n",
    "    \n",
    "    return dsda * dadx, dsda * dady"
   ]
  },
  {
   "cell_type": "markdown",
   "metadata": {},
   "source": [
    "## FUNCTIONS WITH MATRIX MULTIPLICATION"
   ]
  },
  {
   "cell_type": "code",
   "execution_count": 15,
   "metadata": {},
   "outputs": [],
   "source": [
    "def matmul_forward(X: ndarray, W: ndarray) -> ndarray:\n",
    "    '''\n",
    "    Computes the forward pass of a matrix mulitplication\n",
    "    '''\n",
    "    assert X.shape[1] == W.shape[0], \\\n",
    "    '''\n",
    "    for a dot product of X and W, X must be a 1xn and W must\n",
    "    be a nx1 matrix which will give us a 1x1 matrix, or a scalar\n",
    "    value. A dot product of two matrices\n",
    "    '''.format(X.shape[1], W.shape[0])\n",
    "    \n",
    "    #matrix multiplication\n",
    "    N = np.dot(X, W)\n",
    "    \n",
    "    return N"
   ]
  },
  {
   "cell_type": "code",
   "execution_count": 16,
   "metadata": {},
   "outputs": [],
   "source": [
    "def matmul_backward_first(X: ndarray, W: ndarray) -> ndarray:\n",
    "    '''\n",
    "    Computes the backward pass of a mat mul w/ respect to the \n",
    "    first argument\n",
    "    '''\n",
    "    \n",
    "    #backward pass\n",
    "    dNdX = np.transpose(W, (1, 0))\n",
    "    \n",
    "    return dNdX"
   ]
  },
  {
   "cell_type": "code",
   "execution_count": 17,
   "metadata": {},
   "outputs": [
    {
     "name": "stdout",
     "output_type": "stream",
     "text": [
      "[[ 0.47231121  0.61514271 -1.72622715]]\n"
     ]
    },
    {
     "data": {
      "text/plain": [
       "array([[ 0.92819676, -0.60754888, -1.22136052]])"
      ]
     },
     "execution_count": 17,
     "metadata": {},
     "output_type": "execute_result"
    }
   ],
   "source": [
    "np.random.seed(190203)\n",
    "\n",
    "X = np.random.randn(1,3)\n",
    "W = np.random.randn(3,1)\n",
    "\n",
    "print(X)\n",
    "matmul_backward_first(X, W)"
   ]
  },
  {
   "cell_type": "code",
   "execution_count": 18,
   "metadata": {},
   "outputs": [],
   "source": [
    "def matrix_forward_extra(X: ndarray, W: ndarray, sigma: Array_Function) -> ndarray:\n",
    "    '''\n",
    "    Computes the forward pass of a function involving mat mul\n",
    "    with an additional function added to the end\n",
    "    '''\n",
    "    assert X.shape[1] == W.shape[0]\n",
    "    \n",
    "    #mat mul\n",
    "    N = np.dot(X, W)\n",
    "    \n",
    "    #feed N through the additional function, sigma()\n",
    "    S = sigma(N)\n",
    "    \n",
    "    return S"
   ]
  },
  {
   "cell_type": "code",
   "execution_count": 19,
   "metadata": {},
   "outputs": [],
   "source": [
    "def matrix_function_backward_1(X: ndarray, W: ndarray, sigma: Array_Function) -> ndarray:\n",
    "    '''\n",
    "    Computes the derivative of our matrix function with\n",
    "    respect to the first element\n",
    "    '''\n",
    "    assert X.shape[1] == W.shape[0]\n",
    "    \n",
    "    #matmul\n",
    "    N = np.dot(X, W)\n",
    "    \n",
    "    #feeding the output of the matrix multiplication through sigma\n",
    "    S = sigma(N)\n",
    "    \n",
    "    #backward calculation\n",
    "    dSdN = deriv(sigma, N)\n",
    "    \n",
    "    # dNdX\n",
    "    dNdX = np.transpose(W, (1, 0))\n",
    "    \n",
    "    #multiply them together; dNdX is 1x1 so the order of the \n",
    "    #operation will not matter\n",
    "    return np.dot(dSdN, dNdX)"
   ]
  },
  {
   "cell_type": "code",
   "execution_count": 20,
   "metadata": {},
   "outputs": [
    {
     "name": "stdout",
     "output_type": "stream",
     "text": [
      "[[ 0.08516695 -0.05574581 -0.11206627]]\n"
     ]
    }
   ],
   "source": [
    "print(matrix_function_backward_1(X, W, sigmoid))"
   ]
  },
  {
   "cell_type": "code",
   "execution_count": 22,
   "metadata": {},
   "outputs": [],
   "source": [
    "def forward_test(ind1, ind2, inc):\n",
    "    \n",
    "    X1 = X.copy()\n",
    "    X1[ind1, ind2] = X[ind1, ind2] + inc\n",
    "    \n",
    "    return matrix_forward_extra(X1, W, sigmoid)"
   ]
  },
  {
   "cell_type": "code",
   "execution_count": 23,
   "metadata": {},
   "outputs": [
    {
     "data": {
      "text/plain": [
       "array([[-0.11]])"
      ]
     },
     "execution_count": 23,
     "metadata": {},
     "output_type": "execute_result"
    }
   ],
   "source": [
    "(np.round(forward_test(0, 2, 0.01) - forward_test(0, 2, 0), 4)) / 0.01"
   ]
  },
  {
   "cell_type": "code",
   "execution_count": 24,
   "metadata": {},
   "outputs": [
    {
     "data": {
      "text/plain": [
       "-0.11"
      ]
     },
     "execution_count": 24,
     "metadata": {},
     "output_type": "execute_result"
    }
   ],
   "source": [
    "np.round(matrix_function_backward_1(X, W, sigmoid)[0, 2], 2)"
   ]
  },
  {
   "cell_type": "markdown",
   "metadata": {},
   "source": [
    "So as you can see these two are the same which means the gradients we have calculated are correct."
   ]
  },
  {
   "cell_type": "markdown",
   "metadata": {},
   "source": [
    "## MATRIX FUNCTIONS WITH A FINAL SUMMATION"
   ]
  },
  {
   "cell_type": "code",
   "execution_count": 28,
   "metadata": {},
   "outputs": [],
   "source": [
    "def matrix_function_forward_sum(X: ndarray, W: ndarray, sigma: Array_Function) -> float:\n",
    "    '''\n",
    "    Computing the result of the forward pass of the function\n",
    "    with input ndarray X and W and the final function sigma\n",
    "    '''\n",
    "    assert X.shape[1] == W.shape[0]\n",
    "    \n",
    "    #matmul\n",
    "    N = np.dot(X, W)\n",
    "    \n",
    "    #feed N through sigma\n",
    "    S = sigma(N)\n",
    "    \n",
    "    #sum all elements\n",
    "    L = np.sum(S)\n",
    "    \n",
    "    return L"
   ]
  },
  {
   "cell_type": "code",
   "execution_count": 38,
   "metadata": {},
   "outputs": [],
   "source": [
    "def matrix_function_backward_sum_1(X: ndarray, W: ndarray, sigma: Array_Function) -> ndarray:\n",
    "    '''\n",
    "    Compute derivative of matrix function with a sum wuth\n",
    "    respect to the first matrix input\n",
    "    '''\n",
    "    assert X.shape[1] == W.shape[0]\n",
    "    \n",
    "    #matmul\n",
    "    N = np.dot(X, W)\n",
    "    \n",
    "    #feeding the output matrix through sigma\n",
    "    S = sigma(N)\n",
    "    \n",
    "    #sum elementwise\n",
    "    L = np.sum(S)\n",
    "    \n",
    "    #derivatives will be referred to as their function names\n",
    "    \n",
    "    #dLdS - just 1's since L is a summation\n",
    "    dLdS = np.ones_like(S)\n",
    "    \n",
    "    #dSdN\n",
    "    dSdN = deriv(sigma, N)\n",
    "    \n",
    "    #dLdN \n",
    "    dLdN = dLdS * dSdN\n",
    "    \n",
    "    #dNdX \n",
    "    dNdX = np.transpose(W, (1, 0))\n",
    "    \n",
    "    dLdX = np.dot(dSdN, dNdX)\n",
    "    \n",
    "    return dLdX"
   ]
  },
  {
   "cell_type": "markdown",
   "metadata": {},
   "source": [
    "## TESTING"
   ]
  },
  {
   "cell_type": "code",
   "execution_count": 39,
   "metadata": {},
   "outputs": [
    {
     "name": "stdout",
     "output_type": "stream",
     "text": [
      "X: \n",
      "[[-1.57752816 -0.6664228   0.63910406]\n",
      " [-0.56152218  0.73729959 -1.42307821]\n",
      " [-1.44348429 -0.39128029  0.1539322 ]]\n",
      "L: \n",
      "2.3755\n",
      "\n",
      "dLdX: \n",
      "[[ 0.2488887  -0.37478057  0.01121962]\n",
      " [ 0.12604152 -0.27807404 -0.13945837]\n",
      " [ 0.22992798 -0.36623443 -0.02252592]]\n"
     ]
    }
   ],
   "source": [
    "np.random.seed(190204)\n",
    "X = np.random.randn(3, 3)\n",
    "W = np.random.randn(3, 2)\n",
    "\n",
    "print(\"X: \")\n",
    "print(X)\n",
    "\n",
    "print(\"L: \")\n",
    "print(round(matrix_function_forward_sum(X, W, sigmoid), 4))\n",
    "print()\n",
    "print(\"dLdX: \")\n",
    "print(matrix_function_backward_sum_1(X, W, sigmoid))"
   ]
  },
  {
   "cell_type": "code",
   "execution_count": 41,
   "metadata": {},
   "outputs": [
    {
     "name": "stdout",
     "output_type": "stream",
     "text": [
      "0.2489\n"
     ]
    }
   ],
   "source": [
    "X1 = X.copy()\n",
    "X1[0, 0] += 0.001\n",
    "\n",
    "print(round((matrix_function_forward_sum(X1, W, sigmoid) - \\\n",
    "            matrix_function_forward_sum(X, W, sigmoid)) / 0.001, 4))"
   ]
  },
  {
   "cell_type": "markdown",
   "metadata": {},
   "source": [
    "Again, you can see the gradient are the same, the above is equal to dLdX(1, 1)."
   ]
  },
  {
   "cell_type": "markdown",
   "metadata": {},
   "source": [
    "## PLOTTING"
   ]
  },
  {
   "cell_type": "code",
   "execution_count": 42,
   "metadata": {},
   "outputs": [],
   "source": [
    "def matrix_function_forward_sum(X: ndarray, W: ndarray, sigma: Array_Function, modify_x11: bool = False, x11: float = 0.05) -> float:\n",
    "    '''\n",
    "    Computing the result of the forward pass of this function\n",
    "    with input tensors X and W and function sigma\n",
    "    '''\n",
    "    assert X.shape[1] == W.shape[0]\n",
    "    \n",
    "    if modify_x11:\n",
    "        X1 = X.copy()\n",
    "        X1[0][0] = x11\n",
    "        \n",
    "    #matmul\n",
    "    N = np.dot(X1, W)\n",
    "    \n",
    "    #feeding N through sigma\n",
    "    S = sigma(N)\n",
    "    \n",
    "    #sum all elements\n",
    "    L = np.sum(S)\n",
    "    \n",
    "    return L"
   ]
  },
  {
   "cell_type": "code",
   "execution_count": 43,
   "metadata": {},
   "outputs": [
    {
     "name": "stdout",
     "output_type": "stream",
     "text": [
      "X: \n",
      "[[-1.57752816 -0.6664228   0.63910406]\n",
      " [-0.56152218  0.73729959 -1.42307821]\n",
      " [-1.44348429 -0.39128029  0.1539322 ]]\n"
     ]
    }
   ],
   "source": [
    "print(\"X: \")\n",
    "print(X)"
   ]
  },
  {
   "cell_type": "code",
   "execution_count": 44,
   "metadata": {},
   "outputs": [],
   "source": [
    "x11s = np.arange(X[0][0] - 1, X[0][0] + 1, 0.01)\n",
    "Ls = [matrix_function_forward_sum(X, W, sigmoid, \n",
    "                                  modify_x11 = True,\n",
    "                                  x11=x11) for x11 in x11s]"
   ]
  },
  {
   "cell_type": "code",
   "execution_count": 45,
   "metadata": {},
   "outputs": [
    {
     "data": {
      "image/png": "[encoded data removed]",
      "text/plain": [
       "<Figure size 432x288 with 1 Axes>"
      ]
     },
     "metadata": {
      "needs_background": "light"
     },
     "output_type": "display_data"
    }
   ],
   "source": [
    "plt.plot(x11s, Ls);\n",
    "plt.title(\"value of $L$ as $x_{11}$ changes while holding $X$ and $W$ constant\")\n",
    "plt.xlabel(\"$x_{11}$\")\n",
    "plt.ylabel(\"$L$\");"
   ]
  }
 ],
 "metadata": {
  "kernelspec": {
   "display_name": "Python 3",
   "language": "python",
   "name": "python3"
  },
  "language_info": {
   "codemirror_mode": {
    "name": "ipython",
    "version": 3
   },
   "file_extension": ".py",
   "mimetype": "text/x-python",
   "name": "python",
   "nbconvert_exporter": "python",
   "pygments_lexer": "ipython3",
   "version": "3.7.1"
  }
 },
 "nbformat": 4,
 "nbformat_minor": 2
}
