{
 "cells": [
  {
   "cell_type": "markdown",
   "metadata": {},
   "source": [
    "Author: Ethan Herron 3-4-2020\n",
    "\n",
    "This is my jupyter notebook for the book Deep Learning from Scratch by Seth Weidman. I will be following along with all of the code, and adding insights or questions I have along the way in these markdown cells."
   ]
  },
  {
   "cell_type": "code",
   "execution_count": 1,
   "metadata": {},
   "outputs": [],
   "source": [
    "import numpy as np\n",
    "\n",
    "import lincoln\n",
    "from lincoln.layers import Dense\n",
    "from lincoln.losses import SoftmaxCrossEntropy, MeanSquaredError\n",
    "from lincoln.optimizers import Optimizer, SGD, SGDMomentum\n",
    "from lincoln.activations import Sigmoid, Tanh, Linear, ReLU\n",
    "from lincoln.network import NeuralNetwork\n",
    "from lincoln.train import Trainer\n",
    "from lincoln.layers import Conv2D"
   ]
  },
  {
   "cell_type": "code",
   "execution_count": 2,
   "metadata": {},
   "outputs": [],
   "source": [
    "'''\n",
    "\n",
    "Credit: https://github.com/hsjeong5\n",
    "\n",
    "This was pulled from Seth Weidman's github\n",
    "'''\n",
    "import numpy as np\n",
    "from urllib import request\n",
    "import gzip\n",
    "import pickle\n",
    "\n",
    "filename = [\n",
    "[\"training_images\",\"train-images-idx3-ubyte.gz\"],\n",
    "[\"test_images\",\"t10k-images-idx3-ubyte.gz\"],\n",
    "[\"training_labels\",\"train-labels-idx1-ubyte.gz\"],\n",
    "[\"test_labels\",\"t10k-labels-idx1-ubyte.gz\"]\n",
    "]\n",
    "\n",
    "\n",
    "def download_mnist():\n",
    "    base_url = \"http://yann.lecun.com/exdb/mnist/\"\n",
    "    for name in filename:\n",
    "        print(\"Downloading \"+name[1]+\"...\")\n",
    "        request.urlretrieve(base_url+name[1], name[1])\n",
    "    print(\"Download complete.\")\n",
    "\n",
    "\n",
    "def save_mnist():\n",
    "    mnist = {}\n",
    "    for name in filename[:2]:\n",
    "        with gzip.open(name[1], 'rb') as f:\n",
    "            mnist[name[0]] = np.frombuffer(f.read(), np.uint8, offset=16).reshape(-1,28*28)\n",
    "    for name in filename[-2:]:\n",
    "        with gzip.open(name[1], 'rb') as f:\n",
    "            mnist[name[0]] = np.frombuffer(f.read(), np.uint8, offset=8)\n",
    "    with open(\"mnist.pkl\", 'wb') as f:\n",
    "        pickle.dump(mnist,f)\n",
    "    print(\"Save complete.\")\n",
    "\n",
    "\n",
    "def init():\n",
    "    download_mnist()\n",
    "    save_mnist()\n",
    "\n",
    "\n",
    "def load():\n",
    "    with open(\"mnist.pkl\",'rb') as f:\n",
    "        mnist = pickle.load(f)\n",
    "    return mnist[\"training_images\"], mnist[\"training_labels\"], mnist[\"test_images\"], mnist[\"test_labels\"]"
   ]
  },
  {
   "cell_type": "code",
   "execution_count": 3,
   "metadata": {},
   "outputs": [],
   "source": [
    "X_train, y_train, X_test, y_test = load()"
   ]
  },
  {
   "cell_type": "code",
   "execution_count": 4,
   "metadata": {},
   "outputs": [],
   "source": [
    "%load_ext autoreload\n",
    "%autoreload 2"
   ]
  },
  {
   "cell_type": "code",
   "execution_count": 5,
   "metadata": {},
   "outputs": [],
   "source": [
    "X_train, X_test = X_train - np.mean(X_train), X_test - np.mean(X_train)\n",
    "X_train, X_test = X_train / np.std(X_train), X_test / np.std(X_train)"
   ]
  },
  {
   "cell_type": "code",
   "execution_count": 6,
   "metadata": {},
   "outputs": [],
   "source": [
    "X_train_conv, X_test_conv = X_train.reshape(-1, 1, 28, 28), X_test.reshape(-1, 1, 28, 28)"
   ]
  },
  {
   "cell_type": "code",
   "execution_count": 7,
   "metadata": {},
   "outputs": [],
   "source": [
    "num_labels = len(y_train)\n",
    "train_labels = np.zeros((num_labels, 10))\n",
    "for i in range(num_labels):\n",
    "    train_labels[i][y_train[i]] = 1\n",
    "\n",
    "num_labels = len(y_test)\n",
    "test_labels = np.zeros((num_labels, 10))\n",
    "for i in range(num_labels):\n",
    "    test_labels[i][y_test[i]] = 1"
   ]
  },
  {
   "cell_type": "code",
   "execution_count": 8,
   "metadata": {},
   "outputs": [],
   "source": [
    "def calc_accuracy_model(model, test_set):\n",
    "    return print(f'''The model validation accuracy is: {np.equal(np.argmax(model.forward(test_set, inference=True), axis=1), y_test).sum() * 100.0 / test_set.shape[0]:.2f}%''')"
   ]
  },
  {
   "cell_type": "markdown",
   "metadata": {},
   "source": [
    "# CNN from scratch"
   ]
  },
  {
   "cell_type": "code",
   "execution_count": 9,
   "metadata": {
    "scrolled": true
   },
   "outputs": [
    {
     "name": "stdout",
     "output_type": "stream",
     "text": [
      "batch 0 loss 31.19150189374252\n",
      "batch 10 loss 14.15039049051834\n",
      "batch 20 loss 8.507022911132601\n",
      "batch 30 loss 9.816084583306068\n",
      "batch 40 loss 2.7069455082764815\n",
      "batch 50 loss 5.039141447327366\n",
      "batch 60 loss 3.841297578567434\n",
      "batch 70 loss 8.477920654330847\n",
      "batch 80 loss 5.387018093832927\n",
      "batch 90 loss 2.3019086461589677\n",
      "batch 100 loss 3.423740645405914\n",
      "Validation accuracy after 100 batches is 87.18%\n",
      "batch 110 loss 7.381830774292775\n",
      "batch 120 loss 5.261394665297685\n",
      "batch 130 loss 6.315186399919332\n",
      "batch 140 loss 3.6748038938448295\n",
      "batch 150 loss 7.088352791457682\n",
      "batch 160 loss 6.2534749079451935\n",
      "batch 170 loss 3.1862586434251368\n",
      "batch 180 loss 4.019203364837613\n",
      "batch 190 loss 3.2785645561076895\n",
      "batch 200 loss 4.158550946114209\n",
      "Validation accuracy after 200 batches is 86.57%\n",
      "batch 210 loss 4.358141880979221\n",
      "batch 220 loss 6.623616594144251\n",
      "batch 230 loss 4.462456032105261\n",
      "batch 240 loss 1.9196046008614966\n",
      "batch 250 loss 6.006217122053406\n",
      "batch 260 loss 7.594060711628687\n",
      "batch 270 loss 4.865535660141705\n",
      "batch 280 loss 3.4843815819928197\n",
      "batch 290 loss 1.1194531100077145\n",
      "batch 300 loss 5.360754064704279\n",
      "Validation accuracy after 300 batches is 88.70%\n",
      "batch 310 loss 4.144653180017475\n",
      "batch 320 loss 3.847855825111812\n",
      "batch 330 loss 2.076506607297435\n",
      "batch 340 loss 1.3815510666760156\n",
      "batch 350 loss 5.350307513082261\n",
      "batch 360 loss 4.165367737349166\n",
      "batch 370 loss 5.781313979706229\n",
      "batch 380 loss 4.144653239101546\n",
      "batch 390 loss 1.981125575353785\n",
      "batch 400 loss 6.2170269544316215\n",
      "Validation accuracy after 400 batches is 90.53%\n",
      "batch 410 loss 4.776086194728576\n",
      "batch 420 loss 6.162171470962223\n",
      "batch 430 loss 2.61875460132094\n",
      "batch 440 loss 5.535138276649607\n",
      "batch 450 loss 8.003627778467928\n",
      "batch 460 loss 2.0724999660746772\n",
      "batch 470 loss 4.7197427545698565\n",
      "batch 480 loss 4.150560990693643\n",
      "batch 490 loss 4.115596074780664\n",
      "batch 500 loss 2.1397278105451742\n",
      "Validation accuracy after 500 batches is 88.75%\n",
      "batch 510 loss 4.259786043898091\n",
      "batch 520 loss 2.4424012597025127\n",
      "batch 530 loss 3.1512421210114705\n",
      "batch 540 loss 4.430592976256577\n",
      "batch 550 loss 3.4538776532030737\n",
      "batch 560 loss 3.0924604057630405\n",
      "batch 570 loss 5.219354775886498\n",
      "batch 580 loss 2.7631021233449835\n",
      "batch 590 loss 2.4007460087450463\n",
      "batch 600 loss 5.323218804018112\n",
      "Validation accuracy after 600 batches is 86.72%\n",
      "batch 610 loss 4.796379912635092\n",
      "batch 620 loss 4.7984480478070815\n",
      "batch 630 loss 5.214383638138018\n",
      "batch 640 loss 3.453877651694845\n",
      "batch 650 loss 2.662815995052825\n",
      "batch 660 loss 6.001387975387393\n",
      "batch 670 loss 1.3815510666724917\n",
      "batch 680 loss 4.144696767257433\n",
      "batch 690 loss 2.916743099750919\n",
      "batch 700 loss 2.9526494588346557\n",
      "Validation accuracy after 700 batches is 85.26%\n",
      "batch 710 loss 2.703536631437013\n",
      "batch 720 loss 2.9239679653969044\n",
      "batch 730 loss 6.135985076571813\n",
      "batch 740 loss 3.10389310990991\n",
      "batch 750 loss 2.5818706903900854\n",
      "batch 760 loss 1.381551066858812\n",
      "batch 770 loss 2.0963449343932434\n",
      "batch 780 loss 6.4560929784780345\n",
      "batch 790 loss 2.7466721684704933\n",
      "batch 800 loss 4.667219768327665\n",
      "Validation accuracy after 800 batches is 89.75%\n",
      "batch 810 loss 3.453877916657612\n",
      "batch 820 loss 1.7232313206607563\n",
      "batch 830 loss 3.029333750557951\n",
      "batch 840 loss 3.3872852459132816\n",
      "batch 850 loss 7.265055842112869\n",
      "batch 860 loss 2.0723265950087377\n",
      "batch 870 loss 2.7631021233449835\n",
      "batch 880 loss 2.0723265950087377\n",
      "batch 890 loss 2.0723265950087377\n",
      "batch 900 loss 3.6457504710423554\n",
      "Validation accuracy after 900 batches is 89.72%\n",
      "batch 910 loss 2.9034077794454003\n",
      "batch 920 loss 2.4838492017519127\n",
      "batch 930 loss 1.8378550563186808\n",
      "batch 940 loss 2.9655323623036454\n",
      "batch 950 loss 2.70630571622556\n",
      "batch 960 loss 1.0199198310664013\n",
      "batch 970 loss 2.07232659949427\n",
      "batch 980 loss 4.836089914304093\n",
      "batch 990 loss 4.421175178347025\n",
      "Validation loss after 1 epochs is 3.079\n"
     ]
    }
   ],
   "source": [
    "model = NeuralNetwork(\n",
    "    layers=[Conv2D(out_channels=16,\n",
    "                   param_size=5,\n",
    "                   dropout=0.8,\n",
    "                   weight_init=\"glorot\",\n",
    "                   flatten=True,\n",
    "                  activation=Tanh()),\n",
    "            Dense(neurons=10, \n",
    "                  activation=Linear())],\n",
    "            loss = SoftmaxCrossEntropy(), \n",
    "seed=20190402)\n",
    "\n",
    "trainer = Trainer(model, SGDMomentum(lr = 0.1, momentum=0.9))\n",
    "trainer.fit(X_train_conv, train_labels, X_test_conv, test_labels,\n",
    "            epochs = 1,\n",
    "            eval_every = 1,\n",
    "            seed=20190402,\n",
    "            batch_size=60,\n",
    "            conv_testing=True);"
   ]
  },
  {
   "cell_type": "code",
   "execution_count": 10,
   "metadata": {},
   "outputs": [
    {
     "name": "stdout",
     "output_type": "stream",
     "text": [
      "The model validation accuracy is: \n",
      "    91.68%\n"
     ]
    }
   ],
   "source": [
    "calc_accuracy_model(model, X_test_conv)"
   ]
  }
 ],
 "metadata": {
  "kernelspec": {
   "display_name": "Python 3",
   "language": "python",
   "name": "python3"
  },
  "language_info": {
   "codemirror_mode": {
    "name": "ipython",
    "version": 3
   },
   "file_extension": ".py",
   "mimetype": "text/x-python",
   "name": "python",
   "nbconvert_exporter": "python",
   "pygments_lexer": "ipython3",
   "version": "3.7.1"
  }
 },
 "nbformat": 4,
 "nbformat_minor": 2
}
